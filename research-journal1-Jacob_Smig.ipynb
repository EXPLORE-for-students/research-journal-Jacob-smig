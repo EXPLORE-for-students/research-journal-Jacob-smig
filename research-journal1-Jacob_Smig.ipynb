{
 "cells": [
  {
   "cell_type": "markdown",
   "metadata": {},
   "source": [
    "# Research Notebook\n",
    "## Jacob Smigorosky\n",
    "## Date: Feb 10 2025"
   ]
  },
  {
   "cell_type": "markdown",
   "metadata": {},
   "source": [
    "# 1: Experience\n",
    "## Describe at least one research activity you worked on this week. \n",
    "1. Create a Dirac-Safe account, access WDM data from the COCO simulations via Cosma\n",
    "2. Reviewed ' Local Group timing argument and virial theorem mass estimators from\n",
    "cosmological simulations' by Hartl, O V., and Strigari, Louis E., and 'The Local Group Mass in light of Gaia', Bensity, D., et al.\n",
    "3. Attended meetings to discuss further data analysis for COCO WDM \n",
    "4. Introduced to some of the code required to access data\n",
    "\n",
    "## Motivation:\n",
    "\n",
    "The goal of our group is to identify Local Group analogues, i.e identify dark matter systems that lie within an acceptable range of separation distances, radial velocity (moving towards each other), etc by performing various mass cuts, velocity cuts. This requires access to the COCO simulations and the COSMA supercomputer."
   ]
  },
  {
   "cell_type": "markdown",
   "metadata": {},
   "source": [
    "# 2: What? (What happened?)\n",
    "## Describe what happened during your activities for the week.\n",
    "\n",
    "    Much of the last few weeks has been spent setting up an account with COSMA, and Dirac safe, which involves getting authorization to access data by submitting an ssh key, which was in general, simple, although COSMA went offline on Monday Feb 3. This involved setting up a jupyter virtual environment and installing several necessary packages.\n",
    "    \n",
    "    The next steps that after verifying that I had access to the data was creating a virtual Jupyter environement to run the necessary code, and install the necessary packages, e.g 'virgodc'. Beyond this, most of my work had been reviewing the necessary publications, such as the 'Local Group timing argument..' [1], where I learned the requirements we will use to select pairs of dark matter objects that will serve as analogues to the Local Group (ie M31 and the Milkyway), for example restricting the radial separation to approximately 500kpc to 1000 kpc [1] though this limit can be adjusted to achieve an appropiate sample size, restricting the mass of nearby galaxies, within a distance around 3Mpc, which will serve as a good basis for initial cuts.\n",
    "   After reviewing the paper, I read through the premade code that can be used to extract quantities like the masses, radii (r_200), radial velocities, and coordinates necessary to make the previously mentioned cuts, but have yet to make any major progress on data analysis.\n",
    "    To begin this process, we have met several times, largely to ensure everyone is up to speed with setting up virtual environments, and to also ensure that we have begun some data analysis including plotting the mass distributions, coordinates, radial velocities."
   ]
  },
  {
   "cell_type": "markdown",
   "metadata": {},
   "source": [
    "# 3: So what? (What does it mean?)\n",
    "## Describe your results\n",
    "\n",
    "I have gotten set up with everything I need to begin data analysis, and have the knowledge needed to collect a data set of useful candidates for our work regarding the Local Group (separation distance, masses, etc)"
   ]
  },
  {
   "cell_type": "markdown",
   "metadata": {},
   "source": [
    "# 4. Now what? (What's next?)\n",
    "## Plan for the next week\n",
    "\n",
    "1. Must make major progress with data analysis, to catch up, which means making plots of the mass distribution, positions, and seeing where I can make necessary cuts.\n",
    "2. Review Lovell et al, and the \" Gaia\" paper"
   ]
  },
  {
   "cell_type": "markdown",
   "metadata": {},
   "source": [
    "# 5. Bibliography\n",
    "\n",
    "Your references here"
   ]
  },
  {
   "cell_type": "markdown",
   "metadata": {},
   "source": [
    "\n",
    "\n",
    "[1]  O. V. Hartl and L. E. Strigari, \"Local Group timing argument and virial theorem mass    estimators from cosmological simulations,\" *Mon. Not. R. Astron. Soc.*, vol. 511, no. 4, pp. 5517-5534, Apr. 2022, doi: 10.3847/2041-8213/ac5c42.\n",
    "\n"
   ]
  },
  {
   "cell_type": "code",
   "execution_count": null,
   "metadata": {},
   "outputs": [],
   "source": []
  }
 ],
 "metadata": {
  "kernelspec": {
   "display_name": "Python 3 (ipykernel)",
   "language": "python",
   "name": "python3"
  },
  "language_info": {
   "codemirror_mode": {
    "name": "ipython",
    "version": 3
   },
   "file_extension": ".py",
   "mimetype": "text/x-python",
   "name": "python",
   "nbconvert_exporter": "python",
   "pygments_lexer": "ipython3",
   "version": "3.12.7"
  }
 },
 "nbformat": 4,
 "nbformat_minor": 4
}
